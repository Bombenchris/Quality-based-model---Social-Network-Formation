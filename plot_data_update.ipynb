{
 "cells": [
  {
   "cell_type": "code",
   "execution_count": 2,
   "metadata": {
    "scrolled": true
   },
   "outputs": [],
   "source": [
    "import sqlite3\n",
    "import pandas as pd\n",
    "import numpy as np\n",
    "import matplotlib.pyplot as plt\n",
    "import powerlaw\n",
    "# %matplotlib inline\n",
    "%matplotlib qt"
   ]
  },
  {
   "cell_type": "code",
   "execution_count": 149,
   "metadata": {},
   "outputs": [],
   "source": [
    "\n",
    "def load_data(game, date):\n",
    "    game_db = '{}.db'.format(game)\n",
    "    conn = sqlite3.connect(game_db)\n",
    "    df_broadcasters = pd.read_sql_query(\"SELECT id, created_at, dedication FROM user_db where created_at<'{}'\".format(date), conn)\n",
    "    df_edges = pd.read_sql_query(\"SELECT source,target,date FROM edges_db where date< '{}'\".format(date), conn)\n",
    "    \n",
    "    return df_broadcasters, df_edges\n",
    "\n",
    "def preprocess_data(df_broadcasters, df_edges):\n",
    "    \n",
    "    df_edges = get_source_outdegree(df_edges)\n",
    "\n",
    "    # 'indegree', indegree removing outdegree-1 nodes', 'rank removing outdegree-1 nodes'\n",
    "    followers_distribution = get_followers_distribution_data(df_edges)\n",
    "    df_broadcasters = get_indegree(df_broadcasters, followers_distribution)\n",
    "    \n",
    "    # get different rank by indegree, indegree removing outdegree-1 nodes'\n",
    "    cols = ['indegree', 'indegree_removing_outdegree_1_nodes']\n",
    "    df_broadcasters = get_rank(df_broadcasters, cols)\n",
    "    \n",
    "    return df_broadcasters, df_edges\n",
    "\n",
    "\n",
    "def data2filter(df_broadcasters, df_edges, filtering):\n",
    "    df_broadcasters_filter = df_broadcasters.loc[(df_broadcasters['dedication']>=filtering['dedication']) & (pd.to_datetime(df_broadcasters['created_at']) < filtering['date']) ]\n",
    "    df_edges_filter = df_edges.loc[(pd.to_datetime(df_edges['Date']) < filtering['date']) & (df_edges['Target'].isin(df_broadcasters_filter.loc[:,'Id'].values))]\n",
    "    \n",
    "    # some broadcasters didn't have edge, when df_edges['Date']) < filtering['date'])\n",
    "    # Therefore, N(broadcasters) in df_edges_filter <= N(broadcasters) in df_broadcasters_filter\n",
    "    # So, we need to get df_broadcasters_filter again, \n",
    "    df_broadcasters_filter = df_broadcasters_filter.loc[ (df_broadcasters_filter['Id'].isin(df_edges_filter['Target'])) ]\n",
    "    \n",
    "    return df_broadcasters_filter, df_edges_filter\n",
    "\n",
    "\n",
    "def print_data_info(df_broadcasters, df_edges, df_broadcasters_filter, df_edges_filter, filtering):\n",
    "\n",
    "    df_dates = df_edges['Date'].sort_values()\n",
    "    df_dates_filter = df_edges_filter['Date'].sort_values()\n",
    "\n",
    "    print('Total number of broadcaster: ' + str(df_broadcasters.groupby('Id').size().size))\n",
    "    print('Date of first edge: ' + str(pd.to_datetime(df_dates.head(1).item())))\n",
    "    print('Date of last edge: ' + str(pd.to_datetime(df_dates.tail(1).item())))\n",
    "    print('Total number of edges: ' + str(len(df_edges)))\n",
    "    print('Total number of unique followers: ' + str(df_edges['Source'].nunique()))\n",
    "    print('---------------------------------------------------') \n",
    "    print('After applying a filter on:') \n",
    "    print('dedication >=: ' + str(filtering['dedication']))\n",
    "    print('data of edge: ' + filtering['date'])\n",
    "    print('---------------------------------------------------') \n",
    "    print('Total number of broadcaster: ' + str(df_broadcasters_filter.groupby('Id').size().size))\n",
    "    print('Date of first edge: ' + str(pd.to_datetime(df_dates_filter.head(1).item())))\n",
    "    print('Date of last edge: ' + str(pd.to_datetime(df_dates_filter.tail(1).item())))\n",
    "    print('Total number of edges: ' + str(len(df_edges_filter)))\n",
    "    print('Total number of unique followers: ' + str(df_edges_filter['Source'].nunique()))\n",
    "    \n",
    "\n",
    "def get_source_outdegree(df_edges): \n",
    "    # compute source outdegree \n",
    "    followers_outdegree = df_edges.groupby(\"Source\", as_index=False)[\"Target\"].count()\n",
    "    followers_outdegree = followers_outdegree.rename(columns={'Target':'Source_outdegree'})\n",
    "    df_edges = df_edges.merge(followers_outdegree, on='Source')\n",
    "    \n",
    "    return df_edges\n",
    "\n",
    "\n",
    "def get_followers_distribution_data(df_edges):\n",
    "    \n",
    "    # for each target, count how many outdegree-1,2,...,n followers it has.\n",
    "    followers_distribution = df_edges.groupby(['Target','Source_outdegree'], as_index=False).size()\n",
    "    followers_distribution = followers_distribution.rename(columns={'size':'Source_outdegree_count'})\n",
    "    \n",
    "    return followers_distribution\n",
    "\n",
    "def get_indegree(df_broadcasters, followers_distribution):\n",
    "\n",
    "    df_indegree = followers_distribution.groupby('Target', as_index=False)['Source_outdegree_count'].sum()\n",
    "    \n",
    "    # change the count of followers_distribution['Source_outdegree'] = 1 to 0, \n",
    "    followers_distribution.loc[followers_distribution['Source_outdegree'] == 1,'Source_outdegree_count'] = 0\n",
    "    df_indegree_removing_outdegree_1_nodes= followers_distribution.groupby('Target', as_index=False)['Source_outdegree_count'].sum()\n",
    "\n",
    "    # rename column name to make merge with df_broadcasters\n",
    "    df_indegree = df_indegree.rename(columns={'Target':'Id', 'Source_outdegree_count': 'indegree'})\n",
    "    df_indegree_removing_outdegree_1_nodes = df_indegree_removing_outdegree_1_nodes.rename(columns={'Target':'Id', 'Source_outdegree_count': 'indegree_removing_outdegree_1_nodes'})\n",
    "\n",
    "    \n",
    "    df_broadcasters = df_broadcasters.merge(df_indegree, on='Id')\n",
    "    df_broadcasters = df_broadcasters.merge(df_indegree_removing_outdegree_1_nodes, on='Id')\n",
    "\n",
    "\n",
    "    return df_broadcasters\n",
    "\n",
    "def get_rank(df_broadcasters, cols):\n",
    "    # sort by 'column', oder by desc, add 'Rank' columns to df_broadcasters\n",
    "    for col in cols:\n",
    "        df_broadcasters.sort_values(by=col, ascending=False, inplace=True, ignore_index=True)\n",
    "        df_broadcasters['Rank_{}'.format(col)] = df_broadcasters.index + 1\n",
    "        \n",
    "    return df_broadcasters\n"
   ]
  },
  {
   "cell_type": "markdown",
   "metadata": {},
   "source": [
    "#  plot zipf"
   ]
  },
  {
   "cell_type": "code",
   "execution_count": 4,
   "metadata": {},
   "outputs": [],
   "source": [
    "from scipy import stats\n",
    "\n",
    "def linear_reg_log(x, y):\n",
    "    pearson_coeff, p_value = stats.pearsonr(x, y)\n",
    "    LR_model = np.polyfit(x, y, deg=1)\n",
    "    slope_log, intercept_log = LR_model\n",
    "\n",
    "    LR_eq = np.poly1d(LR_model)\n",
    "    y_predict = LR_eq(x)\n",
    "    \n",
    "    return pearson_coeff, slope_log, y_predict\n",
    "\n",
    "    \n",
    "def plot_zipf(df_broadcasters, n):\n",
    "    # n: number of top broadcasters to plot\n",
    "    \n",
    "    rank_indegree = pd.Series(df_broadcasters['Rank_indegree'])\n",
    "    indegree = pd.Series(df_broadcasters['indegree'])\n",
    "    pearson_coeff, slope_log, followers_predict_log = linear_reg_log(np.log(rank_indegree[:n]), np.log(indegree[:n]))\n",
    "    \n",
    "    # suffix 1: removing_outdegree_1_nodes\n",
    "    rank_indegree_1 = pd.Series(df_broadcasters['Rank_indegree_removing_outdegree_1_nodes'])\n",
    "    indegree_1 = pd.Series(df_broadcasters['indegree_removing_outdegree_1_nodes'])\n",
    "    pearson_coeff_1, slope_log_1, followers_predict_log_1 = linear_reg_log(np.log(rank_indegree_1[:n]), np.log(indegree_1[:n]))\n",
    "    \n",
    "    \n",
    "    fig, ax = plt.subplots()\n",
    "    df_broadcasters.loc[:n-1].plot.scatter(x='Rank_indegree' , y='indegree', ax = ax, label=\"Twitch data\")\n",
    "    ax.loglog(rank_indegree[:n], np.exp(followers_predict_log),\n",
    "                   label=\"k={:.2f}, \".format(slope_log) + \"Pearson's r={:.2f}\".format(pearson_coeff), color='b')\n",
    "    \n",
    "    df_broadcasters.loc[:n-1].plot.scatter(x='Rank_indegree_removing_outdegree_1_nodes' , y='indegree_removing_outdegree_1_nodes', color='orange', ax = ax, label=\"filter outdegree-1 users\")\n",
    "    ax.loglog(rank_indegree_1[:n], np.exp(followers_predict_log_1),\n",
    "                   label=\"k={:.2f}, \".format(slope_log_1) + \"Pearson's r={:.2f}\".format(pearson_coeff_1), color='orange')\n",
    "    \n",
    "    handles, labels = ax.get_legend_handles_labels()\n",
    "    handles = [handles[2], handles[3], handles[0],handles[1]]\n",
    "    labels = [labels[2], labels[3], labels[0], labels[1]]\n",
    "    \n",
    "    ax.legend(handles, labels, loc='upper right')\n",
    "    ax.set_xlabel('Rank') \n",
    "    ax.set_ylabel('#Followers') \n",
    "    ax.set_xscale('log')\n",
    "    ax.set_yscale('log')\n",
    "    \n",
    "\n",
    "def plot_zipf_all(df_broadcasters):\n",
    "    \n",
    "    fig, ax = plt.subplots()\n",
    "    df_broadcasters.plot.scatter(x='Rank_indegree' , y='indegree', ax = ax, label=\"Twitch data, N = {}\".format(len(df_broadcasters)))\n",
    "    ax.legend(loc='upper right')\n",
    "    ax.set_xlabel('Rank') \n",
    "    ax.set_ylabel('#Followers') \n",
    "    ax.set_xscale('log')\n",
    "    ax.set_yscale('log')"
   ]
  },
  {
   "cell_type": "markdown",
   "metadata": {},
   "source": [
    "# plot broadcasters indegree distribution"
   ]
  },
  {
   "cell_type": "code",
   "execution_count": 5,
   "metadata": {},
   "outputs": [],
   "source": [
    "def data2indegree_distribution(df_broadcasters, df_edges):\n",
    "    \n",
    "    follower_distribution = get_followers_distribution_data(df_edges)\n",
    "    \n",
    "    \n",
    "    indegree_distribution = []\n",
    "    indegree_distribution_normalized = []\n",
    "    targets = df_broadcasters.sort_values(by='indegree',ascending=False)\n",
    "    \n",
    "    # for each broadcaster, get indegree_distribution [#outdegree-1_nodes, #outdegree-2_nodes, ..., ]\n",
    "    for id, indegree in zip(targets['Id'], targets['indegree']):\n",
    "    \n",
    "        distribution = follower_distribution[follower_distribution['Target'] == id]\n",
    "        distribution = distribution.sort_values(by='Source_outdegree', ignore_index=True)['Source_outdegree_count'].values\n",
    "                            \n",
    "        indegree_distribution.append(distribution)\n",
    "        indegree_distribution_normalized.append(distribution/indegree)\n",
    "                            \n",
    "    df_indegree_distribution = pd.DataFrame(indegree_distribution, index = targets['Rank_indegree'])\n",
    "    df_indegree_distribution_normalized = pd.DataFrame(indegree_distribution_normalized, index = targets['Rank_indegree'])\n",
    "                            \n",
    "    return df_indegree_distribution, df_indegree_distribution_normalized\n",
    "\n",
    "\n",
    "def plot_broad_indegree_distribution(df_broadcasters, df_edges, n):\n",
    "    # n: number of top broadcasters to plot\n",
    "    \n",
    "    df_indegree_distribution, df_indegree_distribution_normalized = data2indegree_distribution(df_broadcasters, df_edges)\n",
    "    \n",
    "    df_indegree_distribution_normalized[:n].plot(kind='bar', stacked='True', legend=None)   \n",
    "    plt.xticks(rotation=25)\n",
    "    plt.xlabel('Rank by indegree')\n",
    "    \n",
    "    \n",
    "    df_indegree_distribution[:n].plot(kind='bar', stacked='True', legend=None)\n",
    "    largest_indegree = df_broadcasters_filter['indegree'].head(1).item()\n",
    "    plt.yticks(list(range(0, largest_indegree+75000, 100000)))\n",
    "    plt.ylabel('#Followers')\n",
    "    plt.xlabel('Rank by indegree')\n",
    "    plt.legend(['1', '2', '3'], title='Outdegree')\n",
    "    plt.xticks(rotation=25)\n",
    "    "
   ]
  },
  {
   "cell_type": "markdown",
   "metadata": {},
   "source": [
    "# plot followers outdegree distribution\n"
   ]
  },
  {
   "cell_type": "code",
   "execution_count": 134,
   "metadata": {},
   "outputs": [],
   "source": [
    "def followers_outdegree_distribution(df_broadcasters, df_edges, n_top_broadcsters2exclude):\n",
    "    \n",
    "    broadcasters2exclude = df_broadcasters.loc[df_broadcasters['Rank_indegree'] <= n_top_broadcsters2exclude]['Id'].values\n",
    "    df_outdegree_distribution = df_edges.groupby('Source_outdegree')['Source'].nunique()\n",
    "\n",
    "    # (subtraction) edges - edges with (Target in broadcasters2exclude) and (Source_outdegree=1)\n",
    "    # then groupby Source_outdegree, get how many Souce has outdegree 1,2,...,x etc\n",
    "    df_temp = df_edges.loc[(df_edges['Target'].isin(broadcasters2exclude)) & (df_edges['Source_outdegree']==1)]\n",
    "    df_edges_filter = pd.concat([df_edges, df_temp]).drop_duplicates(keep=False)\n",
    "    df_outdegree_distribution_filtered = df_edges_filter.groupby('Source_outdegree')['Source'].nunique()\n",
    "    \n",
    "    return df_outdegree_distribution, df_outdegree_distribution_filtered\n",
    "\n",
    "def plot_followers_outdegree_distribution(df_broadcasters, df_edges, n_top_broadcsters2exclude):\n",
    "    \n",
    "    df_outdegree_distribution, df_outdegree_distribution_filtered = followers_outdegree_distribution(df_broadcasters, df_edges, n_top_broadcsters2exclude)\n",
    "    # compute frequency outdegree_distribution\n",
    "    # Abbrev. for convenience.   'o'=outdegree, 'd'=distribution, 'f'=filtered\n",
    "    df_o_d_normalized = df_outdegree_distribution.divide(other=sum(df_outdegree_distribution))\n",
    "    df_o_d_f_normalized = df_outdegree_distribution_filtered.divide(other=sum(df_outdegree_distribution_filtered))\n",
    "\n",
    " \n",
    "    fig, ax = plt.subplots()\n",
    "    df_outdegree_distribution.plot(label='original data', marker = '+', ax=ax)\n",
    "    df_outdegree_distribution_filtered.plot(label='filtered data', marker = '+', ax=ax)\n",
    "    plt.xlim([1, df_outdegree_distribution.index[-1]+10]) # max outdegree + 10\n",
    "    plt.legend(loc='upper right')\n",
    "    plt.xscale('log')\n",
    "    plt.yscale('log')\n",
    "    plt.xlabel('Follower outdegree d')\n",
    "    plt.ylabel('#Follower')\n",
    "    \n",
    "    fig, ax = plt.subplots()\n",
    "    df_o_d_normalized.plot(label='original data', marker = '+', ax=ax)\n",
    "    df_o_d_f_normalized.plot(label='filtered data', marker = '+', ax=ax)\n",
    "    plt.xlim([1, 31])\n",
    "    ax.set_xticks(list(range(1,31,2)))\n",
    "    ax.set_xticklabels(list(range(1,31,2)))\n",
    "    plt.legend(loc='upper right')\n",
    "    plt.xlabel('Follower Outdegree d')\n",
    "    plt.ylabel('P(Indegree = d)')\n",
    "    \n",
    "    df_drop = df_edges.drop_duplicates(['Source'])\n",
    "    percentile95 = df_drop['Source_outdegree'].quantile(q=0.95, interpolation='nearest')\n",
    "    percentile99 = df_drop['Source_outdegree'].quantile(q=0.99, interpolation='nearest')\n",
    "    print('Maximum outdegree d = {}'.format(df_edges['Source_outdegree'].max()))\n",
    "    print('95-percentile d = {}'.format(percentile95))\n",
    "    print('99-percentile d = {}'.format(percentile99))\n"
   ]
  },
  {
   "cell_type": "markdown",
   "metadata": {},
   "source": [
    "# plot heatmap"
   ]
  },
  {
   "cell_type": "code",
   "execution_count": 154,
   "metadata": {},
   "outputs": [],
   "source": [
    "def data2heatmap(df_broadcasters, df_edges, n_top_broadcsters, filter_outdegree_1_nodes=False):\n",
    "    \n",
    "    # check condition, '1': filter_outdegree_1_nodes '0':no filter_outdegree_1_nodes\n",
    "    if filter_outdegree_1_nodes:\n",
    "        cond = 1\n",
    "        get_broadcasters_id = df_broadcasters.sort_values(by='indegree_removing_outdegree_1_nodes',ascending=False)['Id'].values[:n_top_broadcsters]\n",
    "        \n",
    "    else:\n",
    "        cond = 0\n",
    "        get_broadcasters_id = df_broadcasters.sort_values(by='indegree',ascending=False)['Id'].values[:n_top_broadcsters]\n",
    "\n",
    "    heatmap = []\n",
    "    for id_x in get_broadcasters_id:\n",
    "        row = []\n",
    "        followers_x = df_edges.loc[(df_edges['Target'] == id_x) & (df_edges['Source_outdegree'] > cond)]['Source']\n",
    "        # get common element between id_x and id_y, then compute overlap O(x,y)\n",
    "        for id_y in get_broadcasters_id:\n",
    "            followers_y = df_edges.loc[(df_edges['Target'] == id_y) & (df_edges['Source_outdegree'] > cond)]['Source']\n",
    "            temp = len(set(followers_x) & set(followers_y)) / len(followers_x)\n",
    "            row.append(temp)\n",
    "        heatmap.append(row)\n",
    "    \n",
    "    return heatmap\n",
    "\n",
    "def get_heatmap_labels(df_broadcasters, df_edges, df_broadcasters_filter, df_edges_filter,\n",
    "                 n_top_broadcsters, filter_outdegree_1_nodes=False):\n",
    "    \n",
    "    if filter_outdegree_1_nodes:\n",
    "        # just get rank\n",
    "        label_xy = df_broadcasters.sort_values(by='indegree_removing_outdegree_1_nodes',ascending=False)['Rank_indegree_removing_outdegree_1_nodes'][:n_top_broadcsters].values\n",
    "\n",
    "        # get the temp_data row according to id_broadcasters_filter, \n",
    "        # get old rank before filter\n",
    "        # get new rank after filter\n",
    "        id_broadcasters_filter = df_broadcasters_filter.sort_values(by='indegree_removing_outdegree_1_nodes',ascending=False)['Id'].values[:n_top_broadcsters]\n",
    "        temp_df = df_broadcasters.loc[df_broadcasters['Id'].isin(id_broadcasters_filter)] \n",
    "        rank_before_filter = temp_df.sort_values(by='indegree_removing_outdegree_1_nodes',ascending=False)['Rank_indegree_removing_outdegree_1_nodes'][:n_top_broadcsters].values \n",
    "        rank_after_filter = df_broadcasters_filter.sort_values(by='indegree_removing_outdegree_1_nodes',ascending=False)['Rank_indegree_removing_outdegree_1_nodes'][:n_top_broadcsters].values \n",
    "\n",
    "        label_xy_filter = ['{}->{}'.format(old,new) for old,new in zip(rank_before_filter,rank_after_filter)]\n",
    "    \n",
    "    \n",
    "    else:\n",
    "        # just get rank\n",
    "        label_xy = df_broadcasters.sort_values(by='indegree',ascending=False)['Rank_indegree'][:n_top_broadcsters].values\n",
    "\n",
    "        # get the temp_data row according to id_broadcasters_filter, \n",
    "        # get old rank before filter\n",
    "        # get new rank after filter\n",
    "        id_broadcasters_filter = df_broadcasters_filter.sort_values(by='indegree',ascending=False)['Id'].values[:n_top_broadcsters]\n",
    "        temp_df = df_broadcasters.loc[df_broadcasters['Id'].isin(id_broadcasters_filter)] \n",
    "        rank_before_filter = temp_df.sort_values(by='indegree',ascending=False)['Rank_indegree'][:n_top_broadcsters].values \n",
    "        rank_after_filter = df_broadcasters_filter.sort_values(by='indegree',ascending=False)['Rank_indegree'][:n_top_broadcsters].values \n",
    "\n",
    "        label_xy_filter = ['{}->{}'.format(old,new) for old,new in zip(rank_before_filter,rank_after_filter)]\n",
    "    \n",
    "    return label_xy, label_xy_filter\n",
    "    \n",
    "\n",
    "def plot_heatmap(df_broadcasters, df_edges, df_broadcasters_filter, df_edges_filter,\n",
    "                 n_top_broadcsters, filter_outdegree_1_nodes=False):\n",
    "\n",
    "    heatmap = data2heatmap(df_broadcasters, df_edges, n_top_broadcsters, filter_outdegree_1_nodes)\n",
    "    heatmap_filter = data2heatmap(df_broadcasters_filter, df_edges_filter, n_top_broadcsters, filter_outdegree_1_nodes)\n",
    "    \n",
    "    label_xy, label_xy_filter = get_heatmap_labels(df_broadcasters, df_edges, df_broadcasters_filter, df_edges_filter,\n",
    "                 n_top_broadcsters, filter_outdegree_1_nodes)\n",
    "\n",
    "    fig, ax = plt.subplots()\n",
    "    h = plt.imshow(heatmap, cmap='hot', interpolation='nearest')\n",
    "    plt.colorbar(mappable=h)\n",
    "    plt.clim(0, 1)\n",
    "    # hide xticks\n",
    "    plt.setp(ax.get_xticklabels(), visible=False)\n",
    "    #ax.set_xticks(np.arange(n_top_broadcsters))\n",
    "    ax.set_yticks(np.arange(n_top_broadcsters))\n",
    "    #ax.set_xticklabels(label_xy)\n",
    "    ax.set_yticklabels(label_xy)\n",
    "    ax.tick_params(axis='x', which='both', length=0)\n",
    "    plt.xlabel('Rank j')\n",
    "    plt.ylabel('Rank i')\n",
    "    fig.tight_layout()\n",
    "    \n",
    "    \n",
    "    \n",
    "    fig1, ax1 = plt.subplots()\n",
    "    h = plt.imshow(heatmap_filter, cmap='hot', interpolation='nearest')\n",
    "    plt.colorbar(mappable=h)\n",
    "    plt.clim(0, 1)\n",
    "    # hide xticks\n",
    "    plt.setp(ax1.get_xticklabels(), visible=False)\n",
    "    ax1.set_yticks(np.arange(len(heatmap_filter)))\n",
    "    ax1.set_yticklabels(label_xy_filter)\n",
    "    ax1.tick_params(axis='x', which='both', length=0)\n",
    "    plt.xlabel('Rank j')\n",
    "    plt.ylabel('Rank i')\n",
    "    fig1.tight_layout()\n",
    "    "
   ]
  },
  {
   "cell_type": "markdown",
   "metadata": {},
   "source": [
    "# Other plots \n",
    "- dedication distribution\n",
    "- broadcasters indegree pdf\n",
    "- broadcasters rank evolution\n",
    "- broadcasters Age information\n",
    "\n",
    "- Followers connection time\n",
    "- Average outdegree of the followers foreach top broadcasters"
   ]
  },
  {
   "cell_type": "code",
   "execution_count": 146,
   "metadata": {},
   "outputs": [],
   "source": [
    "import matplotlib.patches as mpatches\n",
    "\n",
    "def plot_dedication_hist_frequency(df):\n",
    "    \n",
    "    data = df\n",
    "    weights = np.ones_like(data)/float(len(data))\n",
    "    fig, ax = plt.subplots()\n",
    "    data.plot(kind = \"hist\", bins = 15, weights=weights)\n",
    "    \n",
    "    blue_patch = mpatches.Patch(label='{} broadcasters'.format(len(df)))\n",
    "    plt.legend(handles=[blue_patch])\n",
    "    plt.xlabel('Dedication')\n",
    "    plt.ylabel('Frequency')\n",
    "\n",
    "def plot_dedication_follower_scatter(df):\n",
    "    \n",
    "    df.plot.scatter(x = 'dedication', y='indegree', marker='.')\n",
    "    \n",
    "    plt.yscale('log')\n",
    "    plt.xlabel('Dedication')\n",
    "    plt.ylabel('Indegree')\n",
    "\n",
    "    \n",
    "def plot_indegree_pdf(df, d_min):\n",
    "    \n",
    "    fit = powerlaw.Fit(df,xmin=d_min)\n",
    "    fit.power_law.plot_pdf(color='b', linestyle='--', label='Power-law fit (PDF)')\n",
    "\n",
    "    # the number of bins could be set by parameter,  bins=xxx,\n",
    "    # by default, it will compute the numbers of bin for logarithmic binning,\n",
    "    # the end result is normalized to get the density by default.\n",
    "\n",
    "    fit.plot_pdf(color='orange', marker='o', linestyle='None', label=\"Empirical\")\n",
    "\n",
    "    # Create empty plot with blank marker containing the extra label\n",
    "    plt.plot([], [], ' ', label= r'$ \\alpha $' + \" = {:.3f}\".format(-(fit.power_law.alpha)))\n",
    "    # plt.plot([], [], ' ', label=\"xmin={:.3f}\".format(fit.power_law.xmin))\n",
    "    plt.legend(loc='upper right')\n",
    "    plt.xlabel('Indegree d')\n",
    "    plt.ylabel('P(Indegree = d)')\n",
    "    "
   ]
  },
  {
   "cell_type": "code",
   "execution_count": 123,
   "metadata": {},
   "outputs": [],
   "source": [
    "import matplotlib as mpl\n",
    "import matplotlib.pyplot as plt\n",
    "import matplotlib.cm as cm\n",
    "\n",
    "def get_rank_t(df_broadcasters, df_edges, time_span, n):\n",
    "    Ids = df_broadcasters['Id'][:n]\n",
    "    ranks_t = {id: [] for id in Ids}\n",
    "\n",
    "    for t in time_span: \n",
    "        # get edge data on condiction date, target\n",
    "        # rank the target by #source, \n",
    "        data_temp = df_edges_filter.loc[ (pd.to_datetime(df_edges_filter['Date']) < pd.to_datetime(t)) & (df_edges_filter['Target'].isin(Ids.values)) ]\n",
    "        targets_sort = data_temp.groupby(\"Target\", as_index=False)[\"Source\"].count().sort_values(by='Source', ascending=False, ignore_index=True)\n",
    "\n",
    "        # get rank for each id from index of targets_sort\n",
    "        for id in Ids:\n",
    "            broadcaster = targets_sort.loc[targets_sort['Target'] == id]\n",
    "            if broadcaster.empty:\n",
    "                ranks_t[id].append(None)\n",
    "            else:\n",
    "                ranks_t[id].append(broadcaster.index.item() + 1)\n",
    "    \n",
    "    return ranks_t\n",
    "    \n",
    "\n",
    "def plot_rank_evolution(df_broadcasters, df_edges, time_span, n):\n",
    "\n",
    "    ranks_t = get_rank_t(df_broadcasters, df_edges, time_span, n)\n",
    "    df = pd.DataFrame(ranks_t, index=time_span)\n",
    "    \n",
    "    # reorder the column of dataframe\n",
    "    desired_order_list = df.iloc[0].sort_values(ascending=True).index.values\n",
    "    reordered_rank_t = {k: ranks_t[k] for k in desired_order_list}\n",
    "    df = pd.DataFrame(reordered_rank_t, index=time_span)\n",
    "\n",
    "    fig, ax = plt.subplots()\n",
    "    distance_list = np.linspace(0,1,n,endpoint=False)\n",
    "    min_val, max_val = min(distance_list), max(distance_list)\n",
    "    # use the coolwarm colormap that is built-in, and goes from blue to red\n",
    "    cmap = mpl.cm.hot\n",
    "    norm = mpl.colors.Normalize(vmin=min_val, vmax=max_val)\n",
    "\n",
    "    # convert your distances to color coordinates\n",
    "    color_list = cmap(distance_list)\n",
    "\n",
    "    df.plot(ax = ax, legend=None, color=color_list, linewidth = 3)\n",
    "    plt.xlabel('Time')\n",
    "    plt.ylabel('Rank(t)')\n",
    "    ax.set_yticks(list(range(1,n+1,1)))\n",
    "    ax.set_yticklabels(list(range(1,n+1,1)))\n",
    "    ax.tick_params(axis='x', which='both', length=0)\n",
    "    ax.tick_params(axis='y', which='both', length=0)\n",
    "    \n",
    "def plot_first_connection(df_edges):\n",
    "    first_connection_date = df_edges.sort_values(by=['Target', 'Date']).groupby('Target')['Date'].first()\n",
    "    first_connection_date = pd.to_datetime(first_connection_date)\n",
    "    \n",
    "    broadcaster_indegree = df_edges.groupby('Target',as_index=False )['Source'].count()\n",
    "    \n",
    "    df = pd.DataFrame(first_connection_date)\n",
    "    df = df.merge(broadcaster_indegree, on='Target')\n",
    "    \n",
    "    fig, ax1 = plt.subplots()\n",
    "    df['Date'].hist(bins=40, grid=False, ax = ax1)\n",
    "    \n",
    "    plt.xlabel('First Connnection')\n",
    "    plt.ylabel('Count')\n",
    "    \n",
    "    fig, ax2 = plt.subplots()\n",
    "    df.plot.scatter(x='Date',y='Source', ax = ax2)\n",
    "    #ax2.set_yscale('log')\n",
    "    plt.xlabel('First Connnection')\n",
    "    plt.ylabel('#Followers')\n",
    "    \n"
   ]
  },
  {
   "cell_type": "code",
   "execution_count": 10,
   "metadata": {},
   "outputs": [],
   "source": [
    "def plot_growth(df_edges, time_span):\n",
    "    \n",
    "    edge_date = df_edges.loc[(pd.to_datetime(df_edges['Date']) > time_span['begin']) & (pd.to_datetime(df_edges['Date']) < time_span['end']) ]['Date']\n",
    "    edge_date = pd.to_datetime(edge_date)\n",
    "    df = pd.DataFrame(edge_date)\n",
    "    df['Date'].hist(bins=4*24, grid=False)\n",
    "\n",
    "    plt.xlabel('Time')\n",
    "    plt.ylabel('Count')\n",
    "    \n",
    "def plot_average_outdegree(df_broadcasters, df_edges):\n",
    "    df = df_edges.groupby('Target')['Source_outdegree'].mean().to_frame('Mean')\n",
    "    \n",
    "    data_temp = df_broadcasters[['Id', 'Rank_indegree']]\n",
    "    data_temp = data_temp.rename(columns={'Id':'Target'})\n",
    "    \n",
    "    df = df.merge(data_temp, on='Target').sort_values(by='Rank_indegree')\n",
    "    df.plot(x = 'Rank_indegree', y = 'Mean', marker='+')\n",
    "    \n",
    "    plt.xlabel('Rank of Broadcaster')\n",
    "    plt.ylabel(\"Followers' Outdegree\")\n",
    "    "
   ]
  },
  {
   "cell_type": "code",
   "execution_count": 159,
   "metadata": {},
   "outputs": [],
   "source": [
    "game = 'Chess'\n",
    "\n",
    "# larger than dedication x * 100%\n",
    "# smaller than date\n",
    "filtering = {'dedication': 0.7, 'date' :'2020-10-01'}\n",
    "\n",
    "df_broadcasters, df_edges= load_data(game, filtering['date'])\n",
    "df_broadcasters_filter, df_edges_filter = data2filter(df_broadcasters, df_edges, filtering)\n"
   ]
  },
  {
   "cell_type": "code",
   "execution_count": 160,
   "metadata": {},
   "outputs": [],
   "source": [
    "# first need to process the data\n",
    "\n",
    "df_broadcasters, df_edges = preprocess_data(df_broadcasters, df_edges)\n",
    "df_broadcasters_filter, df_edges_filter = preprocess_data(df_broadcasters_filter, df_edges_filter)\n"
   ]
  },
  {
   "cell_type": "code",
   "execution_count": 161,
   "metadata": {
    "scrolled": true
   },
   "outputs": [
    {
     "name": "stdout",
     "output_type": "stream",
     "text": [
      "Total number of broadcaster: 492\n",
      "Date of first edge: 2010-04-13 20:00:00+00:00\n",
      "Date of last edge: 2020-09-30 23:59:50+00:00\n",
      "Total number of edges: 2350601\n",
      "Total number of unique followers: 1144951\n",
      "---------------------------------------------------\n",
      "After applying a filter on:\n",
      "dedication >=: 0.7\n",
      "data of edge: 2020-10-01\n",
      "---------------------------------------------------\n",
      "Total number of broadcaster: 329\n",
      "Date of first edge: 2010-04-13 20:00:00+00:00\n",
      "Date of last edge: 2020-09-30 23:59:50+00:00\n",
      "Total number of edges: 2075321\n",
      "Total number of unique followers: 979783\n"
     ]
    }
   ],
   "source": [
    "print_data_info(df_broadcasters, df_edges, df_broadcasters_filter, df_edges_filter, filtering)"
   ]
  },
  {
   "cell_type": "code",
   "execution_count": 14,
   "metadata": {
    "scrolled": true
   },
   "outputs": [
    {
     "data": {
      "text/html": [
       "<div>\n",
       "<style scoped>\n",
       "    .dataframe tbody tr th:only-of-type {\n",
       "        vertical-align: middle;\n",
       "    }\n",
       "\n",
       "    .dataframe tbody tr th {\n",
       "        vertical-align: top;\n",
       "    }\n",
       "\n",
       "    .dataframe thead th {\n",
       "        text-align: right;\n",
       "    }\n",
       "</style>\n",
       "<table border=\"1\" class=\"dataframe\">\n",
       "  <thead>\n",
       "    <tr style=\"text-align: right;\">\n",
       "      <th></th>\n",
       "      <th>Id</th>\n",
       "      <th>created_at</th>\n",
       "      <th>dedication</th>\n",
       "      <th>indegree</th>\n",
       "      <th>indegree_removing_outdegree_1_nodes</th>\n",
       "      <th>Rank_indegree</th>\n",
       "      <th>Rank_indegree_removing_outdegree_1_nodes</th>\n",
       "    </tr>\n",
       "  </thead>\n",
       "  <tbody>\n",
       "    <tr>\n",
       "      <th>9</th>\n",
       "      <td>18074328</td>\n",
       "      <td>2010-11-22 04:14:56</td>\n",
       "      <td>0.0</td>\n",
       "      <td>596947</td>\n",
       "      <td>56946</td>\n",
       "      <td>1</td>\n",
       "      <td>10</td>\n",
       "    </tr>\n",
       "  </tbody>\n",
       "</table>\n",
       "</div>"
      ],
      "text/plain": [
       "         Id           created_at  dedication  indegree  \\\n",
       "9  18074328  2010-11-22 04:14:56         0.0    596947   \n",
       "\n",
       "   indegree_removing_outdegree_1_nodes  Rank_indegree  \\\n",
       "9                                56946              1   \n",
       "\n",
       "   Rank_indegree_removing_outdegree_1_nodes  \n",
       "9                                        10  "
      ]
     },
     "execution_count": 14,
     "metadata": {},
     "output_type": "execute_result"
    }
   ],
   "source": [
    "df_broadcasters.sort_values(by='indegree',ascending=False).head(1)"
   ]
  },
  {
   "cell_type": "code",
   "execution_count": 15,
   "metadata": {
    "scrolled": true
   },
   "outputs": [
    {
     "data": {
      "text/html": [
       "<div>\n",
       "<style scoped>\n",
       "    .dataframe tbody tr th:only-of-type {\n",
       "        vertical-align: middle;\n",
       "    }\n",
       "\n",
       "    .dataframe tbody tr th {\n",
       "        vertical-align: top;\n",
       "    }\n",
       "\n",
       "    .dataframe thead th {\n",
       "        text-align: right;\n",
       "    }\n",
       "</style>\n",
       "<table border=\"1\" class=\"dataframe\">\n",
       "  <thead>\n",
       "    <tr style=\"text-align: right;\">\n",
       "      <th></th>\n",
       "      <th>Id</th>\n",
       "      <th>created_at</th>\n",
       "      <th>dedication</th>\n",
       "      <th>indegree</th>\n",
       "      <th>indegree_removing_outdegree_1_nodes</th>\n",
       "      <th>Rank_indegree</th>\n",
       "      <th>Rank_indegree_removing_outdegree_1_nodes</th>\n",
       "    </tr>\n",
       "  </thead>\n",
       "  <tbody>\n",
       "    <tr>\n",
       "      <th>1</th>\n",
       "      <td>127800</td>\n",
       "      <td>2007-10-09 22:21:23</td>\n",
       "      <td>1.0</td>\n",
       "      <td>258964</td>\n",
       "      <td>130334</td>\n",
       "      <td>1</td>\n",
       "      <td>2</td>\n",
       "    </tr>\n",
       "    <tr>\n",
       "      <th>0</th>\n",
       "      <td>25009441</td>\n",
       "      <td>2011-09-23 17:14:19</td>\n",
       "      <td>1.0</td>\n",
       "      <td>244346</td>\n",
       "      <td>150578</td>\n",
       "      <td>2</td>\n",
       "      <td>1</td>\n",
       "    </tr>\n",
       "    <tr>\n",
       "      <th>2</th>\n",
       "      <td>2142933</td>\n",
       "      <td>2008-10-15 19:47:10</td>\n",
       "      <td>1.0</td>\n",
       "      <td>104150</td>\n",
       "      <td>90090</td>\n",
       "      <td>3</td>\n",
       "      <td>3</td>\n",
       "    </tr>\n",
       "  </tbody>\n",
       "</table>\n",
       "</div>"
      ],
      "text/plain": [
       "         Id           created_at  dedication  indegree  \\\n",
       "1    127800  2007-10-09 22:21:23         1.0    258964   \n",
       "0  25009441  2011-09-23 17:14:19         1.0    244346   \n",
       "2   2142933  2008-10-15 19:47:10         1.0    104150   \n",
       "\n",
       "   indegree_removing_outdegree_1_nodes  Rank_indegree  \\\n",
       "1                               130334              1   \n",
       "0                               150578              2   \n",
       "2                                90090              3   \n",
       "\n",
       "   Rank_indegree_removing_outdegree_1_nodes  \n",
       "1                                         2  \n",
       "0                                         1  \n",
       "2                                         3  "
      ]
     },
     "execution_count": 15,
     "metadata": {},
     "output_type": "execute_result"
    }
   ],
   "source": [
    "df_broadcasters_filter.sort_values(by='indegree',ascending=False).head(3)"
   ]
  },
  {
   "cell_type": "code",
   "execution_count": 16,
   "metadata": {
    "scrolled": false
   },
   "outputs": [
    {
     "data": {
      "text/html": [
       "<div>\n",
       "<style scoped>\n",
       "    .dataframe tbody tr th:only-of-type {\n",
       "        vertical-align: middle;\n",
       "    }\n",
       "\n",
       "    .dataframe tbody tr th {\n",
       "        vertical-align: top;\n",
       "    }\n",
       "\n",
       "    .dataframe thead th {\n",
       "        text-align: right;\n",
       "    }\n",
       "</style>\n",
       "<table border=\"1\" class=\"dataframe\">\n",
       "  <thead>\n",
       "    <tr style=\"text-align: right;\">\n",
       "      <th></th>\n",
       "      <th>Source</th>\n",
       "      <th>Target</th>\n",
       "      <th>Date</th>\n",
       "      <th>Source_outdegree</th>\n",
       "    </tr>\n",
       "  </thead>\n",
       "  <tbody>\n",
       "    <tr>\n",
       "      <th>0</th>\n",
       "      <td>590608120</td>\n",
       "      <td>127800</td>\n",
       "      <td>2020-09-30T23:22:32Z</td>\n",
       "      <td>1</td>\n",
       "    </tr>\n",
       "    <tr>\n",
       "      <th>1</th>\n",
       "      <td>135373328</td>\n",
       "      <td>127800</td>\n",
       "      <td>2020-09-30T22:36:29Z</td>\n",
       "      <td>1</td>\n",
       "    </tr>\n",
       "    <tr>\n",
       "      <th>2</th>\n",
       "      <td>524215131</td>\n",
       "      <td>127800</td>\n",
       "      <td>2020-09-30T22:07:04Z</td>\n",
       "      <td>2</td>\n",
       "    </tr>\n",
       "    <tr>\n",
       "      <th>3</th>\n",
       "      <td>524215131</td>\n",
       "      <td>82687927</td>\n",
       "      <td>2020-09-27T13:36:22Z</td>\n",
       "      <td>2</td>\n",
       "    </tr>\n",
       "    <tr>\n",
       "      <th>4</th>\n",
       "      <td>539852278</td>\n",
       "      <td>127800</td>\n",
       "      <td>2020-09-30T18:53:04Z</td>\n",
       "      <td>1</td>\n",
       "    </tr>\n",
       "  </tbody>\n",
       "</table>\n",
       "</div>"
      ],
      "text/plain": [
       "      Source    Target                  Date  Source_outdegree\n",
       "0  590608120    127800  2020-09-30T23:22:32Z                 1\n",
       "1  135373328    127800  2020-09-30T22:36:29Z                 1\n",
       "2  524215131    127800  2020-09-30T22:07:04Z                 2\n",
       "3  524215131  82687927  2020-09-27T13:36:22Z                 2\n",
       "4  539852278    127800  2020-09-30T18:53:04Z                 1"
      ]
     },
     "execution_count": 16,
     "metadata": {},
     "output_type": "execute_result"
    }
   ],
   "source": [
    "df_edges_filter.head()"
   ]
  },
  {
   "cell_type": "code",
   "execution_count": 16,
   "metadata": {},
   "outputs": [
    {
     "data": {
      "image/png": "[encoded data removed]",
      "text/plain": [
       "<Figure size 432x288 with 1 Axes>"
      ]
     },
     "metadata": {
      "needs_background": "light"
     },
     "output_type": "display_data"
    }
   ],
   "source": [
    "plot_dedication_hist_frequency(df_broadcasters['dedication'])"
   ]
  },
  {
   "cell_type": "code",
   "execution_count": 17,
   "metadata": {},
   "outputs": [
    {
     "data": {
      "image/png": "[encoded data removed]",
      "text/plain": [
       "<Figure size 432x288 with 1 Axes>"
      ]
     },
     "metadata": {
      "needs_background": "light"
     },
     "output_type": "display_data"
    }
   ],
   "source": [
    "plot_dedication_follower_scatter(df_broadcasters)"
   ]
  },
  {
   "cell_type": "code",
   "execution_count": 18,
   "metadata": {
    "scrolled": false
   },
   "outputs": [],
   "source": [
    "n_top_broadcaster = 10\n",
    "plot_zipf(df_broadcasters_filter, n_top_broadcaster)\n",
    "plot_zipf_all(df_broadcasters_filter)"
   ]
  },
  {
   "cell_type": "code",
   "execution_count": 148,
   "metadata": {
    "scrolled": true
   },
   "outputs": [
    {
     "name": "stderr",
     "output_type": "stream",
     "text": [
      "/Applications/anaconda/anaconda3/lib/python3.7/site-packages/powerlaw.py:700: RuntimeWarning: invalid value encountered in true_divide\n",
      "  (Theoretical_CDF * (1 - Theoretical_CDF))\n"
     ]
    }
   ],
   "source": [
    "data = df_broadcasters_filter['indegree'].values\n",
    "d_min = 1\n",
    "\n",
    "plot_indegree_pdf(data, d_min)\n"
   ]
  },
  {
   "cell_type": "code",
   "execution_count": 20,
   "metadata": {
    "scrolled": false
   },
   "outputs": [
    {
     "data": {
      "image/png": "[encoded data removed]",
      "text/plain": [
       "<Figure size 432x288 with 1 Axes>"
      ]
     },
     "metadata": {
      "needs_background": "light"
     },
     "output_type": "display_data"
    },
    {
     "data": {
      "image/png": "[encoded data removed]",
      "text/plain": [
       "<Figure size 432x288 with 1 Axes>"
      ]
     },
     "metadata": {
      "needs_background": "light"
     },
     "output_type": "display_data"
    }
   ],
   "source": [
    "n_top_broadcaster = 15\n",
    "plot_broad_indegree_distribution(df_broadcasters_filter, df_edges_filter, n_top_broadcaster)\n"
   ]
  },
  {
   "cell_type": "code",
   "execution_count": 135,
   "metadata": {},
   "outputs": [
    {
     "name": "stdout",
     "output_type": "stream",
     "text": [
      "Maximum outdegree d = 158\n",
      "95-percentile d = 6\n",
      "99-percentile d = 14\n"
     ]
    }
   ],
   "source": [
    "n_top_broadcsters2exclude = 3\n",
    "plot_followers_outdegree_distribution(df_broadcasters_filter, df_edges_filter, n_top_broadcsters2exclude)"
   ]
  },
  {
   "cell_type": "code",
   "execution_count": 155,
   "metadata": {
    "scrolled": false
   },
   "outputs": [],
   "source": [
    "n_top_broadcsters = 20\n",
    "\n",
    "# filter by dedication, date as set in filtering = {'dedication': x * 100%, 'date' :'year-month-day'}\n",
    "plot_heatmap(df_broadcasters, df_edges, df_broadcasters_filter, df_edges_filter,\n",
    "                 n_top_broadcsters, filter_outdegree_1_nodes=False)"
   ]
  },
  {
   "cell_type": "code",
   "execution_count": 162,
   "metadata": {},
   "outputs": [],
   "source": [
    "# filter by dedication, date as set in filtering = {'dedication', 'date'}\n",
    "# but also consider filter_outdegree_1_nodes = True\n",
    "n_top_broadcsters = 20\n",
    "plot_heatmap(df_broadcasters, df_edges, df_broadcasters_filter, df_edges_filter,\n",
    "                 n_top_broadcsters, filter_outdegree_1_nodes=True)"
   ]
  },
  {
   "cell_type": "code",
   "execution_count": 124,
   "metadata": {
    "scrolled": true
   },
   "outputs": [],
   "source": [
    "n_top_broadcsters = 10\n",
    "time_span = pd.date_range(start=\"2019-01-01\", end=\"2020-11-01\", freq='M', tz='UTC')  # every X months\n",
    "plot_rank_evolution(df_broadcasters_filter, df_edges_filter, time_span, n_top_broadcsters)"
   ]
  },
  {
   "cell_type": "code",
   "execution_count": 48,
   "metadata": {},
   "outputs": [],
   "source": [
    "# first edge for each broadcaster\n",
    "\n",
    "plot_first_connection(df_edges)"
   ]
  },
  {
   "cell_type": "code",
   "execution_count": 26,
   "metadata": {},
   "outputs": [
    {
     "data": {
      "image/png": "[encoded data removed]",
      "text/plain": [
       "<Figure size 432x288 with 1 Axes>"
      ]
     },
     "metadata": {
      "needs_background": "light"
     },
     "output_type": "display_data"
    }
   ],
   "source": [
    "# peaks at June and Sept\n",
    "# first peak: https://www.chess.com/article/view/chesscom-pogchamps\n",
    "# second peak: https://www.chess.com/article/view/next-pogchamps-all-the-information\n",
    "# new peak? in the near future\n",
    "\n",
    "time_span = {'begin': pd.to_datetime('2019-01-01', utc=True), 'end':pd.to_datetime('2020-11-01', utc=True)}\n",
    "plot_growth(df_edges,time_span)"
   ]
  },
  {
   "cell_type": "code",
   "execution_count": 27,
   "metadata": {
    "scrolled": true
   },
   "outputs": [
    {
     "data": {
      "image/png": "[encoded data removed]",
      "text/plain": [
       "<Figure size 432x288 with 1 Axes>"
      ]
     },
     "metadata": {
      "needs_background": "light"
     },
     "output_type": "display_data"
    }
   ],
   "source": [
    "plot_average_outdegree(df_broadcasters_filter, df_edges_filter)"
   ]
  },
  {
   "cell_type": "code",
   "execution_count": null,
   "metadata": {},
   "outputs": [],
   "source": []
  }
 ],
 "metadata": {
  "kernelspec": {
   "display_name": "Python [conda env:root] *",
   "language": "python",
   "name": "conda-root-py"
  },
  "language_info": {
   "codemirror_mode": {
    "name": "ipython",
    "version": 3
   },
   "file_extension": ".py",
   "mimetype": "text/x-python",
   "name": "python",
   "nbconvert_exporter": "python",
   "pygments_lexer": "ipython3",
   "version": "3.7.6"
  }
 },
 "nbformat": 4,
 "nbformat_minor": 4
}
